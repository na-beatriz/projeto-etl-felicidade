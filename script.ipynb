{
 "cells": [
  {
   "cell_type": "markdown",
   "id": "ba306c5f",
   "metadata": {},
   "source": [
    "### 🎯 Objetivo:\n",
    "Ler o relatório mundial de felicidade, fazer algumas transformações básicas nos dados e salvar um novo arquivo com as informações tratadas.\n"
   ]
  },
  {
   "cell_type": "markdown",
   "id": "e7f754fa",
   "metadata": {},
   "source": [
    "Parte 1 – Extração (Extract)"
   ]
  },
  {
   "cell_type": "code",
   "execution_count": 123,
   "id": "745464c2",
   "metadata": {},
   "outputs": [],
   "source": [
    "import pandas as pd"
   ]
  },
  {
   "cell_type": "code",
   "execution_count": 124,
   "id": "bf68d9ed",
   "metadata": {},
   "outputs": [],
   "source": [
    "df = pd.read_csv('data/World_Happiness_Report_2024.csv', sep=',')"
   ]
  },
  {
   "cell_type": "code",
   "execution_count": 125,
   "id": "00efaa12",
   "metadata": {},
   "outputs": [
    {
     "name": "stdout",
     "output_type": "stream",
     "text": [
      "  Country name  year  Life Ladder  Log GDP per capita  Social support  \\\n",
      "0  Afghanistan  2008     3.723590            7.350416        0.450662   \n",
      "1  Afghanistan  2009     4.401778            7.508646        0.552308   \n",
      "2  Afghanistan  2010     4.758381            7.613900        0.539075   \n",
      "3  Afghanistan  2011     3.831719            7.581259        0.521104   \n",
      "4  Afghanistan  2012     3.782938            7.660506        0.520637   \n",
      "\n",
      "   Healthy life expectancy at birth  Freedom to make life choices  Generosity  \\\n",
      "0                         50.500000                      0.718114    0.164055   \n",
      "1                         50.799999                      0.678896    0.187297   \n",
      "2                         51.099998                      0.600127    0.117861   \n",
      "3                         51.400002                      0.495901    0.160098   \n",
      "4                         51.700001                      0.530935    0.234157   \n",
      "\n",
      "   Perceptions of corruption  Positive affect  Negative affect  \n",
      "0                   0.881686         0.414297         0.258195  \n",
      "1                   0.850035         0.481421         0.237092  \n",
      "2                   0.706766         0.516907         0.275324  \n",
      "3                   0.731109         0.479835         0.267175  \n",
      "4                   0.775620         0.613513         0.267919  \n"
     ]
    }
   ],
   "source": [
    "print(df.head(5))"
   ]
  },
  {
   "cell_type": "markdown",
   "id": "ff677235",
   "metadata": {},
   "source": [
    "Parte 2 – Transformação (Transform)"
   ]
  },
  {
   "cell_type": "code",
   "execution_count": 126,
   "id": "32a0792f",
   "metadata": {},
   "outputs": [],
   "source": [
    "df_niv_fel = df.rename(columns={\n",
    "    'Country name': 'pais',\n",
    "    'year':'ano',\n",
    "    'Life Ladder': 'indice de felicidade',\n",
    "    'Log GDP per capita': 'PIB per capita',\n",
    "    'Social support': 'apoio social',\n",
    "    'Healthy life expectancy at birth': 'expectativa de vida saudavel',\n",
    "    'Freedom to make life choices': 'liberdade de fazer escolhas',\n",
    "    'Generosity': 'generosidade',\n",
    "    'Perceptions of corruption': 'percepcao de corrupcao',\n",
    "    'Positive affect': 'afeto positivo',\n",
    "    'Negative affect': 'afeto negativo'\n",
    "})"
   ]
  },
  {
   "cell_type": "code",
   "execution_count": 127,
   "id": "c7be0696",
   "metadata": {},
   "outputs": [
    {
     "name": "stdout",
     "output_type": "stream",
     "text": [
      "          pais   ano  indice de felicidade  PIB per capita  apoio social  \\\n",
      "0  Afghanistan  2008              3.723590        7.350416      0.450662   \n",
      "1  Afghanistan  2009              4.401778        7.508646      0.552308   \n",
      "2  Afghanistan  2010              4.758381        7.613900      0.539075   \n",
      "3  Afghanistan  2011              3.831719        7.581259      0.521104   \n",
      "4  Afghanistan  2012              3.782938        7.660506      0.520637   \n",
      "\n",
      "   expectativa de vida saudavel  liberdade de fazer escolhas  generosidade  \\\n",
      "0                     50.500000                     0.718114      0.164055   \n",
      "1                     50.799999                     0.678896      0.187297   \n",
      "2                     51.099998                     0.600127      0.117861   \n",
      "3                     51.400002                     0.495901      0.160098   \n",
      "4                     51.700001                     0.530935      0.234157   \n",
      "\n",
      "   percepcao de corrupcao  afeto positivo  afeto negativo  \n",
      "0                0.881686        0.414297        0.258195  \n",
      "1                0.850035        0.481421        0.237092  \n",
      "2                0.706766        0.516907        0.275324  \n",
      "3                0.731109        0.479835        0.267175  \n",
      "4                0.775620        0.613513        0.267919  \n"
     ]
    }
   ],
   "source": [
    "print(df_niv_fel.head(5))"
   ]
  },
  {
   "cell_type": "code",
   "execution_count": 128,
   "id": "17a24fa7",
   "metadata": {},
   "outputs": [],
   "source": [
    "df_niv_fel[['indice de felicidade', 'PIB per capita', 'apoio social', 'expectativa de vida saudavel', 'liberdade de fazer escolhas', 'generosidade', 'percepcao de corrupcao', 'afeto positivo', 'afeto negativo']] = df_niv_fel[['indice de felicidade', 'PIB per capita', 'apoio social', 'expectativa de vida saudavel', 'liberdade de fazer escolhas', 'generosidade', 'percepcao de corrupcao', 'afeto positivo', 'afeto negativo']].round(2)\n"
   ]
  },
  {
   "cell_type": "code",
   "execution_count": 129,
   "id": "64cd12e2",
   "metadata": {},
   "outputs": [
    {
     "name": "stdout",
     "output_type": "stream",
     "text": [
      "          pais   ano  indice de felicidade  PIB per capita  apoio social  \\\n",
      "0  Afghanistan  2008                  3.72            7.35          0.45   \n",
      "1  Afghanistan  2009                  4.40            7.51          0.55   \n",
      "2  Afghanistan  2010                  4.76            7.61          0.54   \n",
      "3  Afghanistan  2011                  3.83            7.58          0.52   \n",
      "4  Afghanistan  2012                  3.78            7.66          0.52   \n",
      "\n",
      "   expectativa de vida saudavel  liberdade de fazer escolhas  generosidade  \\\n",
      "0                          50.5                         0.72          0.16   \n",
      "1                          50.8                         0.68          0.19   \n",
      "2                          51.1                         0.60          0.12   \n",
      "3                          51.4                         0.50          0.16   \n",
      "4                          51.7                         0.53          0.23   \n",
      "\n",
      "   percepcao de corrupcao  afeto positivo  afeto negativo  \n",
      "0                    0.88            0.41            0.26  \n",
      "1                    0.85            0.48            0.24  \n",
      "2                    0.71            0.52            0.28  \n",
      "3                    0.73            0.48            0.27  \n",
      "4                    0.78            0.61            0.27  \n"
     ]
    }
   ],
   "source": [
    "print(df_niv_fel.head(5))"
   ]
  },
  {
   "cell_type": "code",
   "execution_count": 130,
   "id": "864e4d21",
   "metadata": {},
   "outputs": [],
   "source": [
    "def classificar_nivel_felicidade(score):\n",
    "    if score > 6.5:\n",
    "        return 'Alta'\n",
    "    elif score >= 5.0:\n",
    "        return 'Média'\n",
    "    else:\n",
    "        return 'Baixa'"
   ]
  },
  {
   "cell_type": "code",
   "execution_count": 131,
   "id": "7fc19556",
   "metadata": {},
   "outputs": [],
   "source": [
    "df_niv_fel['nivel_felicidade'] = df_niv_fel['indice de felicidade'].apply(classificar_nivel_felicidade )"
   ]
  },
  {
   "cell_type": "code",
   "execution_count": 132,
   "id": "1bf948ac",
   "metadata": {},
   "outputs": [
    {
     "name": "stdout",
     "output_type": "stream",
     "text": [
      "<bound method NDFrame.head of              pais   ano  indice de felicidade  PIB per capita  apoio social  \\\n",
      "0     Afghanistan  2008                  3.72            7.35          0.45   \n",
      "1     Afghanistan  2009                  4.40            7.51          0.55   \n",
      "2     Afghanistan  2010                  4.76            7.61          0.54   \n",
      "3     Afghanistan  2011                  3.83            7.58          0.52   \n",
      "4     Afghanistan  2012                  3.78            7.66          0.52   \n",
      "...           ...   ...                   ...             ...           ...   \n",
      "2358     Zimbabwe  2019                  2.69            7.70          0.76   \n",
      "2359     Zimbabwe  2020                  3.16            7.60          0.72   \n",
      "2360     Zimbabwe  2021                  3.15            7.66          0.69   \n",
      "2361     Zimbabwe  2022                  3.30            7.67          0.67   \n",
      "2362     Zimbabwe  2023                  3.57            7.68          0.69   \n",
      "\n",
      "      expectativa de vida saudavel  liberdade de fazer escolhas  generosidade  \\\n",
      "0                            50.50                         0.72          0.16   \n",
      "1                            50.80                         0.68          0.19   \n",
      "2                            51.10                         0.60          0.12   \n",
      "3                            51.40                         0.50          0.16   \n",
      "4                            51.70                         0.53          0.23   \n",
      "...                            ...                          ...           ...   \n",
      "2358                         53.10                         0.63         -0.05   \n",
      "2359                         53.58                         0.64          0.00   \n",
      "2360                         54.05                         0.67         -0.08   \n",
      "2361                         54.53                         0.65         -0.07   \n",
      "2362                         55.00                         0.73         -0.07   \n",
      "\n",
      "      percepcao de corrupcao  afeto positivo  afeto negativo nivel_felicidade  \n",
      "0                       0.88            0.41            0.26            Baixa  \n",
      "1                       0.85            0.48            0.24            Baixa  \n",
      "2                       0.71            0.52            0.28            Baixa  \n",
      "3                       0.73            0.48            0.27            Baixa  \n",
      "4                       0.78            0.61            0.27            Baixa  \n",
      "...                      ...             ...             ...              ...  \n",
      "2358                    0.83            0.66            0.24            Baixa  \n",
      "2359                    0.79            0.66            0.35            Baixa  \n",
      "2360                    0.76            0.61            0.24            Baixa  \n",
      "2361                    0.75            0.64            0.19            Baixa  \n",
      "2362                    0.76            0.61            0.18            Baixa  \n",
      "\n",
      "[2363 rows x 12 columns]>\n"
     ]
    }
   ],
   "source": [
    "print(df_niv_fel.head)"
   ]
  },
  {
   "cell_type": "code",
   "execution_count": 133,
   "id": "73563a67",
   "metadata": {},
   "outputs": [],
   "source": [
    "df_america_latina = df_niv_fel[df_niv_fel['pais'].isin(['Argentina', 'Bolivia', 'Brazil', 'Chile', 'Colombia', 'Costa Rica', 'Cuba', 'Dominican Republic', 'Ecuador', 'El Salvador', 'Guatemala', 'Honduras', 'Mexico', 'Nicaragua', 'Panama', 'Paraguay', 'Peru', 'Puerto Rico', 'Uruguay', 'Venezuela'])]"
   ]
  },
  {
   "cell_type": "code",
   "execution_count": 134,
   "id": "d13f958b",
   "metadata": {},
   "outputs": [
    {
     "name": "stdout",
     "output_type": "stream",
     "text": [
      "           pais   ano  indice de felicidade  PIB per capita  apoio social  \\\n",
      "46    Argentina  2006                  6.31            9.94          0.94   \n",
      "47    Argentina  2007                  6.07           10.01          0.86   \n",
      "48    Argentina  2008                  5.96           10.04          0.89   \n",
      "49    Argentina  2009                  6.42            9.97          0.92   \n",
      "50    Argentina  2010                  6.44           10.07          0.93   \n",
      "...         ...   ...                   ...             ...           ...   \n",
      "2291  Venezuela  2019                  5.08            5.53          0.89   \n",
      "2292  Venezuela  2020                  4.57             NaN          0.81   \n",
      "2293  Venezuela  2021                  5.11             NaN          0.81   \n",
      "2294  Venezuela  2022                  5.95             NaN          0.90   \n",
      "2295  Venezuela  2023                  5.77             NaN          0.88   \n",
      "\n",
      "      expectativa de vida saudavel  liberdade de fazer escolhas  generosidade  \\\n",
      "46                           65.82                         0.73         -0.16   \n",
      "47                           65.94                         0.65         -0.15   \n",
      "48                           66.06                         0.68         -0.14   \n",
      "49                           66.18                         0.64         -0.14   \n",
      "50                           66.30                         0.73         -0.13   \n",
      "...                            ...                          ...           ...   \n",
      "2291                         64.40                         0.63          0.12   \n",
      "2292                         64.22                         0.61           NaN   \n",
      "2293                         64.05                         0.60           NaN   \n",
      "2294                         63.88                         0.77           NaN   \n",
      "2295                         63.70                         0.76           NaN   \n",
      "\n",
      "      percepcao de corrupcao  afeto positivo  afeto negativo nivel_felicidade  \n",
      "46                      0.85            0.75            0.33            Média  \n",
      "47                      0.88            0.75            0.28            Média  \n",
      "48                      0.86            0.72            0.32            Média  \n",
      "49                      0.88            0.76            0.24            Média  \n",
      "50                      0.85            0.77            0.21            Média  \n",
      "...                      ...             ...             ...              ...  \n",
      "2291                    0.84            0.73            0.35            Média  \n",
      "2292                    0.81            0.69            0.40            Baixa  \n",
      "2293                    0.82            0.70            0.39            Média  \n",
      "2294                    0.80            0.75            0.29            Média  \n",
      "2295                    0.83            0.76            0.30            Média  \n",
      "\n",
      "[320 rows x 12 columns]\n"
     ]
    }
   ],
   "source": [
    "print(df_america_latina)"
   ]
  },
  {
   "cell_type": "code",
   "execution_count": 135,
   "id": "442c0cac",
   "metadata": {},
   "outputs": [],
   "source": [
    "df_america_latina = df_america_latina.sort_values(by='indice de felicidade', ascending=False)"
   ]
  },
  {
   "cell_type": "code",
   "execution_count": 136,
   "id": "c8b6e644",
   "metadata": {},
   "outputs": [
    {
     "name": "stdout",
     "output_type": "stream",
     "text": [
      "            pais   ano  indice de felicidade  PIB per capita  apoio social  \\\n",
      "476   Costa Rica  2009                  7.61            9.68          0.90   \n",
      "2282   Venezuela  2010                  7.48            9.75          0.93   \n",
      "1359      Mexico  2013                  7.44            9.84          0.76   \n",
      "474   Costa Rica  2007                  7.43            9.67          0.92   \n",
      "490   Costa Rica  2023                  7.38           10.02          0.87   \n",
      "...          ...   ...                   ...             ...           ...   \n",
      "836     Honduras  2013                  4.71            8.52          0.79   \n",
      "835     Honduras  2012                  4.60            8.51          0.78   \n",
      "2292   Venezuela  2020                  4.57             NaN          0.81   \n",
      "1516   Nicaragua  2006                  4.46            8.40          0.88   \n",
      "2288   Venezuela  2016                  4.04            7.60          0.90   \n",
      "\n",
      "      expectativa de vida saudavel  liberdade de fazer escolhas  generosidade  \\\n",
      "476                          69.04                         0.89          0.06   \n",
      "2282                         65.30                         0.77         -0.16   \n",
      "1359                         65.52                         0.74         -0.17   \n",
      "474                          68.72                         0.92          0.09   \n",
      "490                          70.00                         0.93         -0.07   \n",
      "...                            ...                          ...           ...   \n",
      "836                          61.70                         0.70         -0.03   \n",
      "835                          61.90                         0.70         -0.01   \n",
      "2292                         64.22                         0.61           NaN   \n",
      "1516                         64.30                         0.75          0.00   \n",
      "2288                         64.93                         0.46         -0.06   \n",
      "\n",
      "      percepcao de corrupcao  afeto positivo  afeto negativo nivel_felicidade  \n",
      "476                     0.79            0.84            0.22             Alta  \n",
      "2282                    0.75            0.85            0.13             Alta  \n",
      "1359                    0.61            0.75            0.22             Alta  \n",
      "474                     0.82            0.83            0.24             Alta  \n",
      "490                     0.77            0.81            0.28             Alta  \n",
      "...                      ...             ...             ...              ...  \n",
      "836                     0.87            0.79            0.28            Baixa  \n",
      "835                     0.87            0.80            0.29            Baixa  \n",
      "2292                    0.81            0.69            0.40            Baixa  \n",
      "1516                    0.84            0.78            0.29            Baixa  \n",
      "2288                    0.89            0.68            0.39            Baixa  \n",
      "\n",
      "[320 rows x 12 columns]\n"
     ]
    }
   ],
   "source": [
    "print(df_america_latina)"
   ]
  },
  {
   "cell_type": "markdown",
   "id": "7695ca11",
   "metadata": {},
   "source": [
    "Parte 3 – Carga (Load)"
   ]
  },
  {
   "cell_type": "code",
   "execution_count": 137,
   "id": "85321d5a",
   "metadata": {},
   "outputs": [],
   "source": [
    "df_america_latina.to_csv('data/relatorio_felicidade_latam_2024.csv', index=False)"
   ]
  }
 ],
 "metadata": {
  "kernelspec": {
   "display_name": "Python 3",
   "language": "python",
   "name": "python3"
  },
  "language_info": {
   "codemirror_mode": {
    "name": "ipython",
    "version": 3
   },
   "file_extension": ".py",
   "mimetype": "text/x-python",
   "name": "python",
   "nbconvert_exporter": "python",
   "pygments_lexer": "ipython3",
   "version": "3.11.9"
  }
 },
 "nbformat": 4,
 "nbformat_minor": 5
}
